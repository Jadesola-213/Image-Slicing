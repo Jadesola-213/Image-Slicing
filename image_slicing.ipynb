{
 "cells": [
  {
   "cell_type": "code",
   "execution_count": 7,
   "metadata": {},
   "outputs": [],
   "source": [
    "import cv2\n",
    "import os\n",
    "\n",
    "def slice_and_save(image_folder, output_folder, chunk_size=(256, 256), file_extension=\".jpg\"):\n",
    "    # Create output folder if it doesn't exist\n",
    "    if not os.path.exists(output_folder):\n",
    "        os.makedirs(output_folder)\n",
    "\n",
    "    # Iterate through all images in the folder\n",
    "    for image_filename in os.listdir(image_folder):\n",
    "        # Check if the file is an image\n",
    "        if image_filename.lower().endswith(('.png', '.jpg', '.jpeg', '.gif')):\n",
    "            image_path = os.path.join(image_folder, image_filename)\n",
    "\n",
    "            # Read the large image\n",
    "            large_image = cv2.imread(image_path)\n",
    "\n",
    "            # Get the dimensions of the large image\n",
    "            height, width, _ = large_image.shape\n",
    "\n",
    "            # Iterate through the image and extract non-overlapping chunks\n",
    "            for i in range(0, height, chunk_size[0]):\n",
    "                for j in range(0, width, chunk_size[1]):\n",
    "                    chunk = large_image[i:i+chunk_size[0], j:j+chunk_size[1]]\n",
    "\n",
    "                    # Ensure the extracted chunk is of the desired size\n",
    "                    if chunk.shape[:2] == chunk_size:\n",
    "                        # Save the chunk with original file name and chunk number\n",
    "                        chunk_filename = f\"{os.path.splitext(image_filename)[0]}_chunk_{i // chunk_size[0]}_{j // chunk_size[1]}{file_extension}\"\n",
    "                        chunk_path = os.path.join(output_folder, chunk_filename)\n",
    "                        cv2.imwrite(chunk_path, chunk)\n",
    "\n",
    "image_folder_path = \"folder path\"\n",
    "output_folder_path = \"folder path\"\n",
    "slice_and_save(image_folder_path, output_folder_path)"
   ]
  }
 ],
 "metadata": {
  "kernelspec": {
   "display_name": "jade3109",
   "language": "python",
   "name": "python3"
  },
  "language_info": {
   "codemirror_mode": {
    "name": "ipython",
    "version": 3
   },
   "file_extension": ".py",
   "mimetype": "text/x-python",
   "name": "python",
   "nbconvert_exporter": "python",
   "pygments_lexer": "ipython3",
   "version": "0.0.0"
  }
 },
 "nbformat": 4,
 "nbformat_minor": 2
}
